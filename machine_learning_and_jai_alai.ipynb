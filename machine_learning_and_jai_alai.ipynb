{
 "cells": [
  {
   "cell_type": "markdown",
   "metadata": {},
   "source": [
    "## Modeling Jai Alai as a multiclass classification problem. "
   ]
  },
  {
   "cell_type": "markdown",
   "metadata": {},
   "source": [
    "### Exploring Magic City Casino's Jai Alai results with sklearn in Python\n",
    "SPOILER: Some of the models below do perform better than the baseline classification accuracy, however the liquidity of the win-place-show pools at Magic City is so low that even a $2 bet can sometimes turn an overlay into an underlay.\n",
    "\n",
    "I originally made this notebook in the summer of 2020 using match data scraped from Magic City's [website](https://www.magiccitycasino.com/jai-alai-entries-and-results). Although the results show promise, as mentioned new wagering activity of more than a few dollars would negatively affect the parimutuel odds."
   ]
  },
  {
   "cell_type": "markdown",
   "metadata": {},
   "source": [
    "## Load Data"
   ]
  },
  {
   "cell_type": "code",
   "execution_count": 1,
   "metadata": {},
   "outputs": [],
   "source": [
    "import numpy as np\n",
    "import pandas as pd\n",
    "from matplotlib import pyplot as plt"
   ]
  },
  {
   "cell_type": "code",
   "execution_count": 2,
   "metadata": {},
   "outputs": [
    {
     "data": {
      "text/html": [
       "<div>\n",
       "<style scoped>\n",
       "    .dataframe tbody tr th:only-of-type {\n",
       "        vertical-align: middle;\n",
       "    }\n",
       "\n",
       "    .dataframe tbody tr th {\n",
       "        vertical-align: top;\n",
       "    }\n",
       "\n",
       "    .dataframe thead th {\n",
       "        text-align: right;\n",
       "    }\n",
       "</style>\n",
       "<table border=\"1\" class=\"dataframe\">\n",
       "  <thead>\n",
       "    <tr style=\"text-align: right;\">\n",
       "      <th></th>\n",
       "      <th>0</th>\n",
       "      <th>1</th>\n",
       "      <th>2</th>\n",
       "      <th>3</th>\n",
       "      <th>4</th>\n",
       "    </tr>\n",
       "  </thead>\n",
       "  <tbody>\n",
       "    <tr>\n",
       "      <th>date</th>\n",
       "      <td>7/3/2019</td>\n",
       "      <td>7/3/2019</td>\n",
       "      <td>7/3/2019</td>\n",
       "      <td>7/3/2019</td>\n",
       "      <td>7/3/2019</td>\n",
       "    </tr>\n",
       "    <tr>\n",
       "      <th>time</th>\n",
       "      <td>1</td>\n",
       "      <td>1</td>\n",
       "      <td>1</td>\n",
       "      <td>1</td>\n",
       "      <td>1</td>\n",
       "    </tr>\n",
       "    <tr>\n",
       "      <th>game</th>\n",
       "      <td>1</td>\n",
       "      <td>2</td>\n",
       "      <td>3</td>\n",
       "      <td>5</td>\n",
       "      <td>6</td>\n",
       "    </tr>\n",
       "    <tr>\n",
       "      <th>pp1</th>\n",
       "      <td>1</td>\n",
       "      <td>1</td>\n",
       "      <td>1</td>\n",
       "      <td>1</td>\n",
       "      <td>1</td>\n",
       "    </tr>\n",
       "    <tr>\n",
       "      <th>name1</th>\n",
       "      <td>Fred</td>\n",
       "      <td>Fred</td>\n",
       "      <td>Bueno</td>\n",
       "      <td>Anderluck</td>\n",
       "      <td>Anderluck</td>\n",
       "    </tr>\n",
       "    <tr>\n",
       "      <th>pp2</th>\n",
       "      <td>2</td>\n",
       "      <td>2</td>\n",
       "      <td>2</td>\n",
       "      <td>2</td>\n",
       "      <td>2</td>\n",
       "    </tr>\n",
       "    <tr>\n",
       "      <th>name2</th>\n",
       "      <td>CRB</td>\n",
       "      <td>Rock</td>\n",
       "      <td>Tennessee</td>\n",
       "      <td>Juice</td>\n",
       "      <td>El Barba</td>\n",
       "    </tr>\n",
       "    <tr>\n",
       "      <th>pp3</th>\n",
       "      <td>3</td>\n",
       "      <td>3</td>\n",
       "      <td>3</td>\n",
       "      <td>3</td>\n",
       "      <td>3</td>\n",
       "    </tr>\n",
       "    <tr>\n",
       "      <th>name3</th>\n",
       "      <td>Jeden</td>\n",
       "      <td>Bueno</td>\n",
       "      <td>Rock</td>\n",
       "      <td>Kubala</td>\n",
       "      <td>Kubala</td>\n",
       "    </tr>\n",
       "    <tr>\n",
       "      <th>pp4</th>\n",
       "      <td>4</td>\n",
       "      <td>4</td>\n",
       "      <td>4</td>\n",
       "      <td>4</td>\n",
       "      <td>4</td>\n",
       "    </tr>\n",
       "    <tr>\n",
       "      <th>name4</th>\n",
       "      <td>Bueno</td>\n",
       "      <td>CRB</td>\n",
       "      <td>Jeden</td>\n",
       "      <td>Carballo</td>\n",
       "      <td>Juice</td>\n",
       "    </tr>\n",
       "    <tr>\n",
       "      <th>pp5</th>\n",
       "      <td>5</td>\n",
       "      <td>5</td>\n",
       "      <td>5</td>\n",
       "      <td>5</td>\n",
       "      <td>5</td>\n",
       "    </tr>\n",
       "    <tr>\n",
       "      <th>name5</th>\n",
       "      <td>Cool Fitness</td>\n",
       "      <td>Jeden</td>\n",
       "      <td>CRB</td>\n",
       "      <td>Bradley</td>\n",
       "      <td>Bradley</td>\n",
       "    </tr>\n",
       "    <tr>\n",
       "      <th>pp6</th>\n",
       "      <td>6</td>\n",
       "      <td>6</td>\n",
       "      <td>6</td>\n",
       "      <td>6</td>\n",
       "      <td>6</td>\n",
       "    </tr>\n",
       "    <tr>\n",
       "      <th>name6</th>\n",
       "      <td>Rock</td>\n",
       "      <td>Limonte</td>\n",
       "      <td>Limonte</td>\n",
       "      <td>Legend</td>\n",
       "      <td>Diaz</td>\n",
       "    </tr>\n",
       "    <tr>\n",
       "      <th>pp7</th>\n",
       "      <td>7</td>\n",
       "      <td>7</td>\n",
       "      <td>7</td>\n",
       "      <td>7</td>\n",
       "      <td>7</td>\n",
       "    </tr>\n",
       "    <tr>\n",
       "      <th>name7</th>\n",
       "      <td>Tennessee</td>\n",
       "      <td>Tennessee</td>\n",
       "      <td>Cool Fitness</td>\n",
       "      <td>Ben</td>\n",
       "      <td>Carballo</td>\n",
       "    </tr>\n",
       "    <tr>\n",
       "      <th>pp8</th>\n",
       "      <td>8</td>\n",
       "      <td>8</td>\n",
       "      <td>8</td>\n",
       "      <td>8</td>\n",
       "      <td>8</td>\n",
       "    </tr>\n",
       "    <tr>\n",
       "      <th>name8</th>\n",
       "      <td>Limonte</td>\n",
       "      <td>Cool Fitness</td>\n",
       "      <td>Fred</td>\n",
       "      <td>Diaz</td>\n",
       "      <td>Legend</td>\n",
       "    </tr>\n",
       "    <tr>\n",
       "      <th>sub</th>\n",
       "      <td>9</td>\n",
       "      <td>9</td>\n",
       "      <td>9</td>\n",
       "      <td>9</td>\n",
       "      <td>9</td>\n",
       "    </tr>\n",
       "    <tr>\n",
       "      <th>sub_name</th>\n",
       "      <td>Diaz</td>\n",
       "      <td>Ben</td>\n",
       "      <td>Juice</td>\n",
       "      <td>El Barba</td>\n",
       "      <td>Ben</td>\n",
       "    </tr>\n",
       "    <tr>\n",
       "      <th>w_post</th>\n",
       "      <td>4</td>\n",
       "      <td>3</td>\n",
       "      <td>1</td>\n",
       "      <td>1</td>\n",
       "      <td>3</td>\n",
       "    </tr>\n",
       "    <tr>\n",
       "      <th>win</th>\n",
       "      <td>Bueno</td>\n",
       "      <td>Bueno</td>\n",
       "      <td>Bueno</td>\n",
       "      <td>Anderluck</td>\n",
       "      <td>Kubala</td>\n",
       "    </tr>\n",
       "    <tr>\n",
       "      <th>win_pay</th>\n",
       "      <td>8.4</td>\n",
       "      <td>9.8</td>\n",
       "      <td>7.8</td>\n",
       "      <td>8.4</td>\n",
       "      <td>13</td>\n",
       "    </tr>\n",
       "    <tr>\n",
       "      <th>p_post</th>\n",
       "      <td>3</td>\n",
       "      <td>5</td>\n",
       "      <td>8</td>\n",
       "      <td>3</td>\n",
       "      <td>2</td>\n",
       "    </tr>\n",
       "    <tr>\n",
       "      <th>place</th>\n",
       "      <td>Jeden</td>\n",
       "      <td>Jeden</td>\n",
       "      <td>Fred</td>\n",
       "      <td>Kubala</td>\n",
       "      <td>El Barba</td>\n",
       "    </tr>\n",
       "    <tr>\n",
       "      <th>s_post</th>\n",
       "      <td>2</td>\n",
       "      <td>1</td>\n",
       "      <td>4</td>\n",
       "      <td>7</td>\n",
       "      <td>6</td>\n",
       "    </tr>\n",
       "    <tr>\n",
       "      <th>show</th>\n",
       "      <td>CRB</td>\n",
       "      <td>Fred</td>\n",
       "      <td>Jeden</td>\n",
       "      <td>Ben</td>\n",
       "      <td>Diaz</td>\n",
       "    </tr>\n",
       "    <tr>\n",
       "      <th>win_prob</th>\n",
       "      <td>0.238095</td>\n",
       "      <td>0.204082</td>\n",
       "      <td>0.25641</td>\n",
       "      <td>0.238095</td>\n",
       "      <td>0.153846</td>\n",
       "    </tr>\n",
       "    <tr>\n",
       "      <th>order</th>\n",
       "      <td>432</td>\n",
       "      <td>351</td>\n",
       "      <td>184</td>\n",
       "      <td>137</td>\n",
       "      <td>326</td>\n",
       "    </tr>\n",
       "  </tbody>\n",
       "</table>\n",
       "</div>"
      ],
      "text/plain": [
       "                     0             1             2          3          4\n",
       "date          7/3/2019      7/3/2019      7/3/2019   7/3/2019   7/3/2019\n",
       "time                 1             1             1          1          1\n",
       "game                 1             2             3          5          6\n",
       "pp1                  1             1             1          1          1\n",
       "name1             Fred          Fred         Bueno  Anderluck  Anderluck\n",
       "pp2                  2             2             2          2          2\n",
       "name2              CRB          Rock     Tennessee      Juice   El Barba\n",
       "pp3                  3             3             3          3          3\n",
       "name3            Jeden         Bueno          Rock     Kubala     Kubala\n",
       "pp4                  4             4             4          4          4\n",
       "name4            Bueno           CRB         Jeden   Carballo      Juice\n",
       "pp5                  5             5             5          5          5\n",
       "name5     Cool Fitness         Jeden           CRB    Bradley    Bradley\n",
       "pp6                  6             6             6          6          6\n",
       "name6             Rock       Limonte       Limonte     Legend       Diaz\n",
       "pp7                  7             7             7          7          7\n",
       "name7        Tennessee     Tennessee  Cool Fitness        Ben   Carballo\n",
       "pp8                  8             8             8          8          8\n",
       "name8          Limonte  Cool Fitness          Fred       Diaz     Legend\n",
       "sub                  9             9             9          9          9\n",
       "sub_name          Diaz           Ben         Juice   El Barba        Ben\n",
       "w_post               4             3             1          1          3\n",
       "win              Bueno         Bueno         Bueno  Anderluck     Kubala\n",
       "win_pay            8.4           9.8           7.8        8.4         13\n",
       "p_post               3             5             8          3          2\n",
       "place            Jeden         Jeden          Fred     Kubala   El Barba\n",
       "s_post               2             1             4          7          6\n",
       "show               CRB          Fred         Jeden        Ben       Diaz\n",
       "win_prob      0.238095      0.204082       0.25641   0.238095   0.153846\n",
       "order              432           351           184        137        326"
      ]
     },
     "execution_count": 2,
     "metadata": {},
     "output_type": "execute_result"
    }
   ],
   "source": [
    "# after scraping and parsing the results pdfs, many of the games where the substitute player was used had to be edited manually\n",
    "# the 'time' column refers to whether the game occured during the matinee or evening slots\n",
    "## pp1 stands for 'post position 1' etc.\n",
    "df = pd.read_csv('20200000_roster_subbed.csv', header=0)\n",
    "df.head().T"
   ]
  },
  {
   "cell_type": "code",
   "execution_count": 3,
   "metadata": {},
   "outputs": [],
   "source": [
    "# drop everything except for player names, winner, time slot, and game no.\n",
    "drop_columns = ['date','pp1','pp2','pp3','pp4','pp5','pp6','pp7','pp8','sub', 'sub_name',\n",
    "                'w_post','win','w_post','win_pay','p_post','place','s_post','show','win_prob','order']\n",
    "# split into X,y\n",
    "X = df.drop(drop_columns, axis=1).copy() # X = time slot, game no., player names\n",
    "y = df['win'].copy() # y = winner"
   ]
  },
  {
   "cell_type": "code",
   "execution_count": 4,
   "metadata": {},
   "outputs": [
    {
     "data": {
      "text/html": [
       "<div>\n",
       "<style scoped>\n",
       "    .dataframe tbody tr th:only-of-type {\n",
       "        vertical-align: middle;\n",
       "    }\n",
       "\n",
       "    .dataframe tbody tr th {\n",
       "        vertical-align: top;\n",
       "    }\n",
       "\n",
       "    .dataframe thead th {\n",
       "        text-align: right;\n",
       "    }\n",
       "</style>\n",
       "<table border=\"1\" class=\"dataframe\">\n",
       "  <thead>\n",
       "    <tr style=\"text-align: right;\">\n",
       "      <th></th>\n",
       "      <th>time</th>\n",
       "      <th>game</th>\n",
       "      <th>name1</th>\n",
       "      <th>name2</th>\n",
       "      <th>name3</th>\n",
       "      <th>name4</th>\n",
       "      <th>name5</th>\n",
       "      <th>name6</th>\n",
       "      <th>name7</th>\n",
       "      <th>name8</th>\n",
       "    </tr>\n",
       "  </thead>\n",
       "  <tbody>\n",
       "    <tr>\n",
       "      <th>0</th>\n",
       "      <td>1</td>\n",
       "      <td>1</td>\n",
       "      <td>Fred</td>\n",
       "      <td>CRB</td>\n",
       "      <td>Jeden</td>\n",
       "      <td>Bueno</td>\n",
       "      <td>Cool Fitness</td>\n",
       "      <td>Rock</td>\n",
       "      <td>Tennessee</td>\n",
       "      <td>Limonte</td>\n",
       "    </tr>\n",
       "    <tr>\n",
       "      <th>1</th>\n",
       "      <td>1</td>\n",
       "      <td>2</td>\n",
       "      <td>Fred</td>\n",
       "      <td>Rock</td>\n",
       "      <td>Bueno</td>\n",
       "      <td>CRB</td>\n",
       "      <td>Jeden</td>\n",
       "      <td>Limonte</td>\n",
       "      <td>Tennessee</td>\n",
       "      <td>Cool Fitness</td>\n",
       "    </tr>\n",
       "    <tr>\n",
       "      <th>2</th>\n",
       "      <td>1</td>\n",
       "      <td>3</td>\n",
       "      <td>Bueno</td>\n",
       "      <td>Tennessee</td>\n",
       "      <td>Rock</td>\n",
       "      <td>Jeden</td>\n",
       "      <td>CRB</td>\n",
       "      <td>Limonte</td>\n",
       "      <td>Cool Fitness</td>\n",
       "      <td>Fred</td>\n",
       "    </tr>\n",
       "    <tr>\n",
       "      <th>3</th>\n",
       "      <td>1</td>\n",
       "      <td>5</td>\n",
       "      <td>Anderluck</td>\n",
       "      <td>Juice</td>\n",
       "      <td>Kubala</td>\n",
       "      <td>Carballo</td>\n",
       "      <td>Bradley</td>\n",
       "      <td>Legend</td>\n",
       "      <td>Ben</td>\n",
       "      <td>Diaz</td>\n",
       "    </tr>\n",
       "    <tr>\n",
       "      <th>4</th>\n",
       "      <td>1</td>\n",
       "      <td>6</td>\n",
       "      <td>Anderluck</td>\n",
       "      <td>El Barba</td>\n",
       "      <td>Kubala</td>\n",
       "      <td>Juice</td>\n",
       "      <td>Bradley</td>\n",
       "      <td>Diaz</td>\n",
       "      <td>Carballo</td>\n",
       "      <td>Legend</td>\n",
       "    </tr>\n",
       "  </tbody>\n",
       "</table>\n",
       "</div>"
      ],
      "text/plain": [
       "   time  game      name1      name2   name3     name4         name5    name6  \\\n",
       "0     1     1       Fred        CRB   Jeden     Bueno  Cool Fitness     Rock   \n",
       "1     1     2       Fred       Rock   Bueno       CRB         Jeden  Limonte   \n",
       "2     1     3      Bueno  Tennessee    Rock     Jeden           CRB  Limonte   \n",
       "3     1     5  Anderluck      Juice  Kubala  Carballo       Bradley   Legend   \n",
       "4     1     6  Anderluck   El Barba  Kubala     Juice       Bradley     Diaz   \n",
       "\n",
       "          name7         name8  \n",
       "0     Tennessee       Limonte  \n",
       "1     Tennessee  Cool Fitness  \n",
       "2  Cool Fitness          Fred  \n",
       "3           Ben          Diaz  \n",
       "4      Carballo        Legend  "
      ]
     },
     "execution_count": 4,
     "metadata": {},
     "output_type": "execute_result"
    }
   ],
   "source": [
    "X.head()"
   ]
  },
  {
   "cell_type": "code",
   "execution_count": 5,
   "metadata": {},
   "outputs": [
    {
     "data": {
      "text/plain": [
       "0        Bueno\n",
       "1        Bueno\n",
       "2        Bueno\n",
       "3    Anderluck\n",
       "4       Kubala\n",
       "Name: win, dtype: object"
      ]
     },
     "execution_count": 5,
     "metadata": {},
     "output_type": "execute_result"
    }
   ],
   "source": [
    "y.head()"
   ]
  },
  {
   "cell_type": "code",
   "execution_count": 6,
   "metadata": {},
   "outputs": [
    {
     "data": {
      "text/plain": [
       "Douglas         206\n",
       "Bueno           119\n",
       "Carballo        116\n",
       "Kubala          114\n",
       "RonRon          100\n",
       "Tennessee        94\n",
       "Ben              93\n",
       "Anderluck        86\n",
       "Jeden            71\n",
       "Diaz             69\n",
       "Ikeda            69\n",
       "El Barba         67\n",
       "Cool Fitness     58\n",
       "Bradley          46\n",
       "Juice            46\n",
       "CRB              43\n",
       "Legend           42\n",
       "Vuelo            39\n",
       "Fred             36\n",
       "Limonte          26\n",
       "Asier            23\n",
       "Rock              5\n",
       "Name: win, dtype: int64"
      ]
     },
     "execution_count": 6,
     "metadata": {},
     "output_type": "execute_result"
    }
   ],
   "source": [
    "y.value_counts()"
   ]
  },
  {
   "cell_type": "markdown",
   "metadata": {},
   "source": [
    "## Encode Data"
   ]
  },
  {
   "cell_type": "code",
   "execution_count": 7,
   "metadata": {},
   "outputs": [],
   "source": [
    "# import encoding libraries\n",
    "from sklearn.preprocessing import OneHotEncoder\n",
    "from sklearn.preprocessing import LabelEncoder"
   ]
  },
  {
   "cell_type": "code",
   "execution_count": 8,
   "metadata": {},
   "outputs": [],
   "source": [
    "# one hot encode all X inputs\n",
    "one_hot = OneHotEncoder()\n",
    "one_hot.fit(X)\n",
    "enc_X = one_hot.transform(X)"
   ]
  },
  {
   "cell_type": "code",
   "execution_count": 9,
   "metadata": {},
   "outputs": [],
   "source": [
    "# run y through label encoder ()\n",
    "le = LabelEncoder()\n",
    "le.fit(y)\n",
    "enc_y = le.transform(y)"
   ]
  },
  {
   "cell_type": "markdown",
   "metadata": {},
   "source": [
    "## Get Baseline Result\n",
    "\n",
    "When checking the y value counts earlier, since some players have won hundreds of games while others have only won a few dozen, I'll approach this as an imbalanced classification problem. Using sklearn's RepeatedStratifiedKFold can give a good general estimate of model performance by using a balanced mixture of examples by class in each fold and repeating the cross validation process many times."
   ]
  },
  {
   "cell_type": "code",
   "execution_count": 10,
   "metadata": {},
   "outputs": [],
   "source": [
    "from sklearn.model_selection import cross_val_score\n",
    "from sklearn.model_selection import RepeatedStratifiedKFold\n",
    "from sklearn.dummy import DummyClassifier\n",
    "from numpy import mean, std\n",
    "\n",
    "# evaluate a model\n",
    "def evaluate_model(X, y, model):\n",
    "    # define evaluation procedure\n",
    "    cv = RepeatedStratifiedKFold(n_splits=5,n_repeats=3,random_state=1)\n",
    "    # evaluate model\n",
    "    scores = cross_val_score(model, X, y, scoring='accuracy', cv=cv, n_jobs=-1)\n",
    "    return scores"
   ]
  },
  {
   "cell_type": "code",
   "execution_count": 11,
   "metadata": {},
   "outputs": [],
   "source": [
    "# evaluate the baseline strategy of predicting the majority class in all cases\n",
    "model = DummyClassifier(strategy='most_frequent')"
   ]
  },
  {
   "cell_type": "code",
   "execution_count": 12,
   "metadata": {},
   "outputs": [
    {
     "name": "stdout",
     "output_type": "stream",
     "text": [
      "Mean Accuracy: 0.1314, Standard Deviation: 0.1205\n"
     ]
    }
   ],
   "source": [
    "scores = evaluate_model(enc_X, enc_y, model)\n",
    "# summarize performance\n",
    "print(f'Mean Accuracy: {mean(scores):.4f}, Standard Deviation: {std(scores)*100:.4f}')\n",
    "\n",
    "# note: this baseline % results from always picking the player with the most wins to win, \n",
    "#       even if that player didn't participate in the game\n",
    "#       if we simply pick the post position with the most wins (no. 2) every time, the accuracy is around 16%"
   ]
  },
  {
   "cell_type": "markdown",
   "metadata": {},
   "source": [
    "## Evaluate Models\n",
    "\n",
    "Now that we know the baseline performance, I'll compare the out of the box performance of several different algorithms to see which ones might deserve further attention:\n",
    "\n",
    "Multi-layer Perceptron,\n",
    "Support Vector Machine,\n",
    "k-Nearest Neighbors,\n",
    "Gradient Boost,\n",
    "Random Forest,\n",
    "Extra Trees,\n",
    "Bagged Decision Trees, \n",
    "Logistic Regression"
   ]
  },
  {
   "cell_type": "code",
   "execution_count": 13,
   "metadata": {},
   "outputs": [],
   "source": [
    "from sklearn.neural_network import MLPClassifier\n",
    "from sklearn.svm import SVC\n",
    "from sklearn.neighbors import KNeighborsClassifier\n",
    "from sklearn.ensemble import GradientBoostingClassifier\n",
    "from sklearn.ensemble import RandomForestClassifier\n",
    "from sklearn.ensemble import ExtraTreesClassifier\n",
    "from sklearn.ensemble import BaggingClassifier\n",
    "from sklearn.linear_model import LogisticRegression"
   ]
  },
  {
   "cell_type": "code",
   "execution_count": 14,
   "metadata": {},
   "outputs": [],
   "source": [
    "# define models to test\n",
    "def get_models():\n",
    "    models, names = list(), list()\n",
    "    #Multi Layer Perceptron\n",
    "    models.append(MLPClassifier())\n",
    "    names.append('MLP')\n",
    "    # Log. Reg. Multinomial\n",
    "    models.append(LogisticRegression(multi_class='multinomial'))\n",
    "    names.append('LRmulti')\n",
    "    # Log. Reg. One Versus Rest\n",
    "    models.append(LogisticRegression(multi_class='ovr'))\n",
    "    names.append('LRovr')    \n",
    "    # SVM\n",
    "    models.append(SVC(gamma='auto'))\n",
    "    names.append('SVM')\n",
    "    # KNN\n",
    "    models.append(KNeighborsClassifier())\n",
    "    names.append('KNN')\n",
    "    # GB\n",
    "    models.append(GradientBoostingClassifier())\n",
    "    names.append('GB')\n",
    "    # Bagging\n",
    "    models.append(BaggingClassifier(n_estimators=1000))\n",
    "    names.append('BAG')\n",
    "    # RF\n",
    "    models.append(RandomForestClassifier(n_estimators=1000))\n",
    "    names.append('RF')\n",
    "    # ET\n",
    "    models.append(ExtraTreesClassifier(n_estimators=1000))\n",
    "    names.append('ET')\n",
    "    return models, names"
   ]
  },
  {
   "cell_type": "code",
   "execution_count": 15,
   "metadata": {
    "scrolled": true
   },
   "outputs": [
    {
     "name": "stdout",
     "output_type": "stream",
     "text": [
      ">MLP 0.219 (0.020)\n",
      ">LRmulti 0.222 (0.020)\n",
      ">LRovr 0.224 (0.024)\n",
      ">SVM 0.155 (0.009)\n",
      ">KNN 0.167 (0.017)\n",
      ">GB 0.233 (0.017)\n",
      ">BAG 0.223 (0.015)\n",
      ">RF 0.240 (0.017)\n",
      ">ET 0.232 (0.012)\n"
     ]
    }
   ],
   "source": [
    "models, names = get_models()\n",
    "results = list()\n",
    "# evaluate each model\n",
    "for i in range(len(models)):\n",
    "    # evaluate the model and store the results\n",
    "    scores = evaluate_model(enc_X, enc_y, models[i])\n",
    "    results.append(scores)\n",
    "    # summarize performance\n",
    "    print('>%s %.3f (%.3f)' % (names[i], mean(scores), std(scores)))"
   ]
  },
  {
   "cell_type": "code",
   "execution_count": 16,
   "metadata": {},
   "outputs": [
    {
     "data": {
      "image/png": "[encoded data removed]",
      "text/plain": [
       "<Figure size 432x288 with 1 Axes>"
      ]
     },
     "metadata": {
      "needs_background": "light"
     },
     "output_type": "display_data"
    }
   ],
   "source": [
    "# show boxplot of each model's accuracy scores\n",
    "# the line in the middle of the box is the sample median, the triangle the mean\n",
    "plt.boxplot(results,  labels=names, showmeans=True)\n",
    "plt.show()"
   ]
  },
  {
   "cell_type": "code",
   "execution_count": 17,
   "metadata": {},
   "outputs": [
    {
     "name": "stdout",
     "output_type": "stream",
     "text": [
      ">MLP 0.221 (0.014)\n",
      ">LRmulti 0.222 (0.020)\n",
      ">LRovr 0.224 (0.024)\n",
      ">SVM 0.155 (0.009)\n",
      ">KNN 0.167 (0.017)\n",
      ">GB 0.232 (0.017)\n",
      ">BAG 0.224 (0.014)\n",
      ">RF 0.240 (0.018)\n",
      ">ET 0.232 (0.014)\n"
     ]
    }
   ],
   "source": [
    "# run it again for comparison\n",
    "models, names = get_models()\n",
    "results = list()\n",
    "# evaluate each model\n",
    "for i in range(len(models)):\n",
    "    # evaluate the model and store the results\n",
    "    scores = evaluate_model(enc_X, enc_y, models[i])\n",
    "    results.append(scores)\n",
    "    # summarize performance\n",
    "    print('>%s %.3f (%.3f)' % (names[i], mean(scores), std(scores)))"
   ]
  },
  {
   "cell_type": "code",
   "execution_count": 18,
   "metadata": {},
   "outputs": [
    {
     "data": {
      "image/png": "[encoded data removed]",
      "text/plain": [
       "<Figure size 432x288 with 1 Axes>"
      ]
     },
     "metadata": {
      "needs_background": "light"
     },
     "output_type": "display_data"
    }
   ],
   "source": [
    "plt.boxplot(results,  labels=names, showmeans=True)\n",
    "plt.show()"
   ]
  },
  {
   "cell_type": "markdown",
   "metadata": {},
   "source": [
    "## Tune hyperparameters of the best out-of-box models"
   ]
  },
  {
   "cell_type": "code",
   "execution_count": 19,
   "metadata": {},
   "outputs": [],
   "source": [
    "from sklearn.model_selection import GridSearchCV"
   ]
  },
  {
   "cell_type": "code",
   "execution_count": 20,
   "metadata": {},
   "outputs": [
    {
     "name": "stdout",
     "output_type": "stream",
     "text": [
      "Best: 0.234065 using {'C': 0.1, 'max_iter': 100, 'multi_class': 'ovr', 'penalty': 'l2', 'solver': 'newton-cg'}\n"
     ]
    }
   ],
   "source": [
    "# Tune logistic Regression\n",
    "# define model and hyperparamaters\n",
    "tune_lr = LogisticRegression()\n",
    "max_iter = [100, 1000]\n",
    "multiclass = ['ovr','multinomial']\n",
    "solvers = ['newton-cg','lbfgs','liblinear']\n",
    "penalty = ['l2']\n",
    "c_values = [100,10,1.0,0.1,0.01]\n",
    "# define grid search\n",
    "grid = dict(max_iter=max_iter,multi_class=multiclass,solver=solvers,penalty=penalty,C=c_values)\n",
    "cv = RepeatedStratifiedKFold(n_splits=5,n_repeats=3,random_state=1)\n",
    "grid_search = GridSearchCV(estimator=tune_lr,param_grid=grid,n_jobs=-1,cv=cv,scoring='accuracy',error_score=0)\n",
    "grid_result = grid_search.fit(enc_X, enc_y)\n",
    "# summarize reslts\n",
    "print('Best: %f using %s' % (grid_result.best_score_, grid_result.best_params_))"
   ]
  },
  {
   "cell_type": "code",
   "execution_count": 21,
   "metadata": {},
   "outputs": [
    {
     "name": "stdout",
     "output_type": "stream",
     "text": [
      "Best: 0.242988 using {'max_features': 'sqrt', 'n_estimators': 1000}\n"
     ]
    }
   ],
   "source": [
    "# tune Random Forest\n",
    "# define model and hyperparameters\n",
    "tune_rf = RandomForestClassifier()\n",
    "n_estimators = [10,100,1000]\n",
    "max_features = ['sqrt', 'log2']\n",
    "# define grid search\n",
    "grid = dict(n_estimators=n_estimators,max_features=max_features)\n",
    "cv = RepeatedStratifiedKFold(n_splits=5, n_repeats=3, random_state=1)\n",
    "grid_search = GridSearchCV(estimator=tune_rf, param_grid=grid, n_jobs=-1, cv=cv, scoring='accuracy',error_score=0)\n",
    "grid_result = grid_search.fit(enc_X, enc_y)\n",
    "# summarize results\n",
    "print('Best: %f using %s' % (grid_result.best_score_, grid_result.best_params_))"
   ]
  },
  {
   "cell_type": "code",
   "execution_count": 22,
   "metadata": {},
   "outputs": [
    {
     "name": "stdout",
     "output_type": "stream",
     "text": [
      "Best: 0.260425 using {'learning_rate': 0.01, 'max_depth': 6, 'n_estimators': 200, 'subsample': 0.5}\n"
     ]
    }
   ],
   "source": [
    "# Tune Gradient Boost\n",
    "# define models and parameters\n",
    "tune_gb = GradientBoostingClassifier()\n",
    "n_estimators = [50,100,200]\n",
    "learning_rate = [0.01,0.1]\n",
    "subsample = [0.5,1.0]\n",
    "max_depth = [3,6]\n",
    "# define grid search\n",
    "grid = dict(learning_rate=learning_rate,n_estimators=n_estimators, subsample=subsample, max_depth=max_depth)\n",
    "cv = RepeatedStratifiedKFold(n_splits=5,n_repeats=3,random_state=1)\n",
    "grid_search = GridSearchCV(estimator=tune_gb,param_grid=grid,n_jobs=-1,cv=cv,scoring='accuracy',error_score=0)\n",
    "grid_result = grid_search.fit(enc_X, enc_y)\n",
    "# summarize results\n",
    "print('Best: %f using %s' % (grid_result.best_score_, grid_result.best_params_))"
   ]
  },
  {
   "cell_type": "markdown",
   "metadata": {},
   "source": [
    "## Conclusion\n",
    "With the help of sklearn, it didn't take much work to find a few models that perform almost 2x better than the baseline prediction rate. Further steps to improve the model would include looking at model log loss, running a regression to calculate the optimum weight of each individual model's input to the ensemble, and finally running a wagering backtest to check profitability.\n",
    "\n",
    "It would also be worth trying to predict the winning post position (1 through 8) as opposed to trying to predict which player name out of 22 options will be the winner. The latter is problematic because sometimes the algorithms output a non-zero probability of winning for a player that isn't even participating in the match.\n",
    "\n",
    "Since we already know that the Magic City wagering pool is too small to absorb bets of more than a few dollars though, I conclude the modeling exercise here."
   ]
  }
 ],
 "metadata": {
  "kernelspec": {
   "display_name": "Python 3",
   "language": "python",
   "name": "python3"
  },
  "language_info": {
   "codemirror_mode": {
    "name": "ipython",
    "version": 3
   },
   "file_extension": ".py",
   "mimetype": "text/x-python",
   "name": "python",
   "nbconvert_exporter": "python",
   "pygments_lexer": "ipython3",
   "version": "3.7.6"
  }
 },
 "nbformat": 4,
 "nbformat_minor": 4
}
